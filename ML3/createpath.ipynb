{
 "cells": [
  {
   "cell_type": "code",
   "execution_count": 1,
   "id": "309d8992",
   "metadata": {},
   "outputs": [],
   "source": [
    "import glob\n",
    "\n",
    "train_image_path = r\"C:/Users/Chen/Desktop/ML3/test1/accuracytest/\"\n",
    "\n",
    "txt_path = r\"C:/Users/Chen/Desktop/ML3/PyTorch_YOLOv4-master/\"\n",
    "\n",
    "def generate_train_and_val(image_path, txt_file):\n",
    "    with open(txt_file, 'w') as tf:\n",
    "        for jpg_file in glob.glob(image_path + '*.jpg'):\n",
    "            tf.write(jpg_file + '\\n')\n",
    "\n",
    "generate_train_and_val(train_image_path, txt_path + 'test.txt')"
   ]
  },
  {
   "cell_type": "code",
   "execution_count": null,
   "id": "2e109acd",
   "metadata": {},
   "outputs": [],
   "source": []
  }
 ],
 "metadata": {
  "kernelspec": {
   "display_name": "Python 3 (ipykernel)",
   "language": "python",
   "name": "python3"
  },
  "language_info": {
   "codemirror_mode": {
    "name": "ipython",
    "version": 3
   },
   "file_extension": ".py",
   "mimetype": "text/x-python",
   "name": "python",
   "nbconvert_exporter": "python",
   "pygments_lexer": "ipython3",
   "version": "3.9.16"
  }
 },
 "nbformat": 4,
 "nbformat_minor": 5
}
